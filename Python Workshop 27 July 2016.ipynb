{
 "cells": [
  {
   "cell_type": "markdown",
   "metadata": {},
   "source": [
    "# CIC Python workshop "
   ]
  },
  {
   "cell_type": "markdown",
   "metadata": {},
   "source": [
    "# 1. Loading and analysing a dataset\n",
    "\n",
    "## Learning objectives\n",
    "\n",
    "* Explain what a library is, and what libraries are used for.\n",
    "* Load a Python library and use the things it contains.\n",
    "* Read tabular data from a file into a program.\n",
    "* Assign values to variables.\n",
    "* Select individual values and subsections from data.\n",
    "* Perform operations on arrays of data.\n",
    "* Display simple graphs.\n",
    "\n",
    "Words are useful, but what’s more useful are the sentences and stories we build with them. Similarly, while a lot of powerful, general tools are built into languages like Python, specialized tools built up from these basic units live in libraries that can be called upon when needed.\n",
    "\n",
    "In order to load our dataset (New York Air Quality measurements), we need to import a library called __`pandas`__. pandas is a Python package providing fast, flexible, and expressive data structures designed to make working with “relational” or “labelled” data both easy and intuitive. It is well suited for many different kinds of data:\n",
    "\n",
    "* Tabular data with heterogeneously-typed columns, as in an SQL table or Excel spreadsheet\n",
    "* Ordered and unordered (not necessarily fixed-frequency) time series data.\n",
    "* Arbitrary matrix data (homogeneously typed or heterogeneous) with row and column labels\n",
    "* Any other form of observational / statistical data sets. The data actually need not be labelled at all to be placed into a pandas data structure\n",
    "\n",
    "We can load __`pandas`__ using:"
   ]
  },
  {
   "cell_type": "code",
   "execution_count": null,
   "metadata": {
    "collapsed": true
   },
   "outputs": [],
   "source": [
    "import pandas"
   ]
  },
  {
   "cell_type": "markdown",
   "metadata": {},
   "source": [
    "Importing a library is like getting a piece of lab equipment out of a storage locker and setting it up on the bench. Libraries provide additional functionality to the basic Python package, much like a new piece of equipment adds functionality to a lab space. Once you’ve loaded the library, we can ask the library to read our data file for us:"
   ]
  },
  {
   "cell_type": "code",
   "execution_count": null,
   "metadata": {
    "collapsed": false
   },
   "outputs": [],
   "source": [
    "pandas.read_csv('data/NYairquality.csv')"
   ]
  },
  {
   "cell_type": "markdown",
   "metadata": {},
   "source": [
    "The expression __`pandas.read_csv(...)`__ is a function call that asks Python to run the function __`read_csv`__ which belongs to the __`pandas`__ library. This dotted notation is used everywhere in Python to refer to the parts of things as __`thing`__.__`component`__.\n",
    "\n",
    "__`pandas.read_csv`__ has one required parameter: the name of the file we want to read. This parameter needs to be a character string (or string for short), so we put them in quotes.\n",
    "\n",
    "When we have finished typing and press Shift+Enter, the notebook runs our command. Since we haven’t told it to do anything else with the function’s output, the notebook displays it. In this case, the output is the data we just loaded. By default, not all rows and columns are shown (with ... to omit elements).\n",
    "\n",
    "Our call to __`pandas.read_csv`__ reads our file, but doesn’t save the data in memory. To do that, we need to assign the output to a variable. "
   ]
  },
  {
   "cell_type": "markdown",
   "metadata": {},
   "source": [
    "## Variables, attributes and methods\n",
    "\n",
    "A variable is just a name for a value, such as __`x`__, __`current_temperature`__, or __`subject_id`__. Python’s variables must begin with a letter and are case sensitive. We can create a new variable by assigning a value to it using __`=`__. As an illustration, let’s step back and instead of considering a table of data, consider the simplest “collection” of data, a single value. The line below assigns the value __55__ to a variable __`weight_kg`__:"
   ]
  },
  {
   "cell_type": "code",
   "execution_count": null,
   "metadata": {
    "collapsed": true
   },
   "outputs": [],
   "source": [
    "weight_kg = 55"
   ]
  },
  {
   "cell_type": "markdown",
   "metadata": {},
   "source": [
    "Once a variable has a value, we can print it to the screen:"
   ]
  },
  {
   "cell_type": "code",
   "execution_count": null,
   "metadata": {
    "collapsed": false
   },
   "outputs": [],
   "source": [
    "weight_kg"
   ]
  },
  {
   "cell_type": "markdown",
   "metadata": {},
   "source": [
    "and do arithmetic with it:"
   ]
  },
  {
   "cell_type": "code",
   "execution_count": null,
   "metadata": {
    "collapsed": false
   },
   "outputs": [],
   "source": [
    "print('weight in pounds:', 2.2 * weight_kg)"
   ]
  },
  {
   "cell_type": "markdown",
   "metadata": {},
   "source": [
    "As the example above shows, we can print several things at once by separating them with commas.\n",
    "We can also change a variable’s value by assigning it a new one:"
   ]
  },
  {
   "cell_type": "code",
   "execution_count": null,
   "metadata": {
    "collapsed": false
   },
   "outputs": [],
   "source": [
    "weight_kg = 57.5\n",
    "print('weight in kilograms is now:', weight_kg)"
   ]
  },
  {
   "cell_type": "markdown",
   "metadata": {},
   "source": [
    "If we imagine the variable as a sticky note with a name written on it, assignment is like putting the sticky note on a particular value:\n",
    "\n",
    "![Variables as Sticky Notes](figures/python-sticky-note-variables-01.svg)\n",
    "<center>__Figure: Variables as Sticky Notes__</center>\n",
    "\n",
    "This means that assigning a value to one variable does not change the values of other variables. For example, let’s store the subject’s weight in pounds in a variable:"
   ]
  },
  {
   "cell_type": "code",
   "execution_count": null,
   "metadata": {
    "collapsed": false
   },
   "outputs": [],
   "source": [
    "weight_lb = 2.2 * weight_kg\n",
    "print('weight in kilograms:', weight_kg, 'and in pounds:', weight_lb)"
   ]
  },
  {
   "cell_type": "markdown",
   "metadata": {},
   "source": [
    "![Variables as Sticky Notes](figures/python-sticky-note-variables-02.svg)\n",
    "<center>__Figure: Creating Another Variable__</center>\n",
    "\n",
    "and then change weight_kg:"
   ]
  },
  {
   "cell_type": "code",
   "execution_count": null,
   "metadata": {
    "collapsed": false
   },
   "outputs": [],
   "source": [
    "weight_kg = 100.0\n",
    "print('weight in kilograms is now:', weight_kg, 'and weight in pounds is still:', weight_lb)"
   ]
  },
  {
   "cell_type": "markdown",
   "metadata": {},
   "source": [
    "![Variables as Sticky Notes](figures/python-sticky-note-variables-03.svg)\n",
    "<center>__Figure: Updating a Variable__</center>\n",
    "\n",
    "Since __`weight_lb`__ doesn’t “remember” where its value came from, it isn’t automatically updated when __`weight_kg`__ changes. This is different from the way spreadsheets work."
   ]
  },
  {
   "cell_type": "markdown",
   "metadata": {},
   "source": [
    "We can inspect the variables currently set in our Python session by running:"
   ]
  },
  {
   "cell_type": "code",
   "execution_count": null,
   "metadata": {
    "collapsed": false
   },
   "outputs": [],
   "source": [
    "whos"
   ]
  },
  {
   "cell_type": "markdown",
   "metadata": {},
   "source": [
    "We can remove unwanted variables with the __`del`__ command:"
   ]
  },
  {
   "cell_type": "code",
   "execution_count": null,
   "metadata": {
    "collapsed": false
   },
   "outputs": [],
   "source": [
    "del weight_lb"
   ]
  },
  {
   "cell_type": "code",
   "execution_count": null,
   "metadata": {
    "collapsed": false
   },
   "outputs": [],
   "source": [
    "whos"
   ]
  },
  {
   "cell_type": "markdown",
   "metadata": {},
   "source": [
    "Just as we can assign a single value to a variable, we can also assign a table of values to a variable using the same syntax. Let’s re-run __`pandas.read_csv`__ and save its result:"
   ]
  },
  {
   "cell_type": "code",
   "execution_count": null,
   "metadata": {
    "collapsed": false
   },
   "outputs": [],
   "source": [
    "airquality = pandas.read_csv('data/NYairquality.csv')"
   ]
  },
  {
   "cell_type": "markdown",
   "metadata": {},
   "source": [
    "This statement doesn’t produce any output because assignment doesn’t display anything. If we want to check that our data has been loaded, we can print the variable’s value:"
   ]
  },
  {
   "cell_type": "code",
   "execution_count": null,
   "metadata": {
    "collapsed": false
   },
   "outputs": [],
   "source": [
    "airquality"
   ]
  },
  {
   "cell_type": "markdown",
   "metadata": {},
   "source": [
    "Now that our data is in memory, we can start doing things with it. First, let’s ask what type of thing data refers to:"
   ]
  },
  {
   "cell_type": "code",
   "execution_count": null,
   "metadata": {
    "collapsed": false,
    "scrolled": true
   },
   "outputs": [],
   "source": [
    "type(airquality)"
   ]
  },
  {
   "cell_type": "markdown",
   "metadata": {},
   "source": [
    "The output tells us that `data` currently refers to a thing called __`DataFrame`__ created by the __`pandas`__ library (actually a sub-library). The fancy name DataFrame is adopted from the R programming language, you can think of it as a table (with rows and columns).\n",
    "\n",
    "This looks complex but there are simpler examples."
   ]
  },
  {
   "cell_type": "code",
   "execution_count": null,
   "metadata": {
    "collapsed": false
   },
   "outputs": [],
   "source": [
    "type(weight_kg)"
   ]
  },
  {
   "cell_type": "markdown",
   "metadata": {},
   "source": [
    "Which means __`weight_kg`__ is a floating point number."
   ]
  },
  {
   "cell_type": "markdown",
   "metadata": {},
   "source": [
    "Our data corresponds to daily records of air quality measurements in New York. Each record contains a measurement for each day. We can see the size of the table like this:"
   ]
  },
  {
   "cell_type": "code",
   "execution_count": null,
   "metadata": {
    "collapsed": false
   },
   "outputs": [],
   "source": [
    "airquality.shape"
   ]
  },
  {
   "cell_type": "markdown",
   "metadata": {},
   "source": [
    "This tells us that __`airquality`__ has 153 rows and 6 columns. When we created the variable __`airquality`__ to store our data, we didn’t only create the table, we also created information about the table, called members or _attributes_. This extra information describes data in the same way an adjective describes a noun. __`airquality.shape`__ is an attribute of __`data`__ which describes the dimensions of `airquality`. We use the same dotted notation for the attributes of variables that we use for the functions in libraries because they have the same part-and-whole relationship."
   ]
  },
  {
   "cell_type": "markdown",
   "metadata": {},
   "source": [
    "We can get summary statistics of our dataset by doing:"
   ]
  },
  {
   "cell_type": "code",
   "execution_count": null,
   "metadata": {
    "collapsed": false
   },
   "outputs": [],
   "source": [
    "airquality.describe()"
   ]
  },
  {
   "cell_type": "markdown",
   "metadata": {},
   "source": [
    "__`describe`__ here is a _method_ of the __`DataFrame`__, i.e. a function that belongs to the table in the same way that the member __`shape`__ does. If variables are nouns, methods are verbs: they are what the thing in question knows how to do. We need empty parentheses for __`airquality.describe()`__, even when we’re not passing in any parameters, to tell Python to go and do something for us. __`airquality.shape`__ doesn’t need __`()`__ because it is just a description but __`airquality.describe()`__ requires the __`()`__ because it is an action."
   ]
  },
  {
   "cell_type": "markdown",
   "metadata": {},
   "source": [
    "Just like the number of rows and columns, another attribute of our table is the columns names. We can get them like this:"
   ]
  },
  {
   "cell_type": "code",
   "execution_count": null,
   "metadata": {
    "collapsed": false
   },
   "outputs": [],
   "source": [
    "airquality.columns"
   ]
  },
  {
   "cell_type": "markdown",
   "metadata": {},
   "source": [
    "This again looks a bit complex but it basically an ordered list of the names of the table columns. For example, the name of the second column is:"
   ]
  },
  {
   "cell_type": "code",
   "execution_count": null,
   "metadata": {
    "collapsed": false
   },
   "outputs": [],
   "source": [
    "airquality.columns[1]"
   ]
  },
  {
   "cell_type": "markdown",
   "metadata": {},
   "source": [
    "** WARNING ** Python starts counting from 0, not from 1, so the first element of a list has index 0, the second has index 1, and so on."
   ]
  },
  {
   "cell_type": "markdown",
   "metadata": {},
   "source": [
    "Using the round brackets `airquality.describe()` is very different from using the square brackets `airquality.columns[1]`. We saw the first is like an _action_ we invoke on `airquality`. The second instead is akin to the mathematical notation for indices. So if you have a mathematical vector of numbers $(a_1, a_2, \\ldots, a_n)$, the generic element $a_i$ in Python would be `a[i]`."
   ]
  },
  {
   "cell_type": "markdown",
   "metadata": {},
   "source": [
    "## Indexing and slicing"
   ]
  },
  {
   "cell_type": "markdown",
   "metadata": {},
   "source": [
    "If we want to get a single entry from the table, we provide an index in square brackets with __`loc`__ (label-location based index). Here we get the first row of the dataset (index = 0):"
   ]
  },
  {
   "cell_type": "code",
   "execution_count": null,
   "metadata": {
    "collapsed": false
   },
   "outputs": [],
   "source": [
    "airquality.loc[0]"
   ]
  },
  {
   "cell_type": "markdown",
   "metadata": {},
   "source": [
    "You can use the index notation also to get multiple rows. E.g this gets the rows from 10 to 20 (included!)."
   ]
  },
  {
   "cell_type": "code",
   "execution_count": null,
   "metadata": {
    "collapsed": false
   },
   "outputs": [],
   "source": [
    "airquality.loc[10:20]"
   ]
  },
  {
   "cell_type": "markdown",
   "metadata": {},
   "source": [
    "To access a specific row and column of the DataFrame we run __`data.loc[row, column]`__:"
   ]
  },
  {
   "cell_type": "code",
   "execution_count": null,
   "metadata": {
    "collapsed": false
   },
   "outputs": [],
   "source": [
    "airquality.loc[0, 'Temp']"
   ]
  },
  {
   "cell_type": "markdown",
   "metadata": {},
   "source": [
    "We can also select multiple rows and columns from the Dataframe using __`data.loc[start_row:end_row, [column_names]]`__:"
   ]
  },
  {
   "cell_type": "code",
   "execution_count": null,
   "metadata": {
    "collapsed": false
   },
   "outputs": [],
   "source": [
    "airquality.loc[0:5, ['Temp', 'Month', 'Day']]"
   ]
  },
  {
   "cell_type": "markdown",
   "metadata": {},
   "source": [
    "**loc** always expect either only the __`row`__ (like __`loc[row]`__) or a combination of row and column (__`loc[row, column]`__). To get all the rows of a single column (say, the temperature) we would have to do: __`airquality.loc[:, 'Temp']`__ which means all rows of the __`Temp`__ column. This is very long to type for a common operation, so pandas offers a shortcut. If you want the __`Temp`__ column you can say __`data['Temp']`__ which is much quicker to type."
   ]
  },
  {
   "cell_type": "code",
   "execution_count": null,
   "metadata": {
    "collapsed": false,
    "scrolled": true
   },
   "outputs": [],
   "source": [
    "airquality['Temp']"
   ]
  },
  {
   "cell_type": "markdown",
   "metadata": {},
   "source": [
    "It also works with multiple columns"
   ]
  },
  {
   "cell_type": "code",
   "execution_count": null,
   "metadata": {
    "collapsed": false,
    "scrolled": true
   },
   "outputs": [],
   "source": [
    "airquality[['Temp', 'Day']]"
   ]
  },
  {
   "cell_type": "markdown",
   "metadata": {},
   "source": [
    "Once you have a column you can call _methods_ just like you do on the table itself. `DataFrames` and columns have different sets of methods you can call but they share many. E.g. you can get summary statistics of a single column."
   ]
  },
  {
   "cell_type": "code",
   "execution_count": null,
   "metadata": {
    "collapsed": false
   },
   "outputs": [],
   "source": [
    "airquality['Temp'].describe()"
   ]
  },
  {
   "cell_type": "markdown",
   "metadata": {},
   "source": [
    "But you can also get the unique set of values of a column."
   ]
  },
  {
   "cell_type": "code",
   "execution_count": null,
   "metadata": {
    "collapsed": false
   },
   "outputs": [],
   "source": [
    "airquality['Month'].unique()"
   ]
  },
  {
   "cell_type": "markdown",
   "metadata": {},
   "source": [
    "So we only have data from May to September, good to know!\n",
    "\n",
    "You can also do mathematical operations on columns like basic arithmetic and comparisons:"
   ]
  },
  {
   "cell_type": "code",
   "execution_count": null,
   "metadata": {
    "collapsed": false,
    "scrolled": true
   },
   "outputs": [],
   "source": [
    "airquality['Wind'] * 2"
   ]
  },
  {
   "cell_type": "markdown",
   "metadata": {},
   "source": [
    "There is one other common way of accessing a *slice* of data, which is using a boolean variable. A boolean variable is a variable that can be `True` or `False`. If we wanted to find the days when the Ozone measurement was particularly high. i.e. over 70 parts per billion (ppb) we could do the following:"
   ]
  },
  {
   "cell_type": "code",
   "execution_count": null,
   "metadata": {
    "collapsed": false,
    "scrolled": true
   },
   "outputs": [],
   "source": [
    "airquality['Ozone'] > 70"
   ]
  },
  {
   "cell_type": "markdown",
   "metadata": {},
   "source": [
    "This returns a column of True/False values with one row for each row in the original table __`airquality`__, depending on the specified condition. This boolean array can be used to only select rows from the data __`Dataframe`__ that meet this filter / requirement. We can use this to select only the rows in __`airquality`__ for which the condition is true."
   ]
  },
  {
   "cell_type": "code",
   "execution_count": null,
   "metadata": {
    "collapsed": false
   },
   "outputs": [],
   "source": [
    "high_ozone = airquality['Ozone'] > 70\n",
    "airquality[high_ozone]"
   ]
  },
  {
   "cell_type": "markdown",
   "metadata": {},
   "source": [
    "## Plots"
   ]
  },
  {
   "cell_type": "markdown",
   "metadata": {},
   "source": [
    "We can make plots too. Note we need to give a special command __`%matplotlib inline`__ to make plots appear within this Jupyter notebook. You don't need to run this for each plot, only once per session. It's common to stick this command at the top of the notebook, so it's the first thing you execute."
   ]
  },
  {
   "cell_type": "code",
   "execution_count": null,
   "metadata": {
    "collapsed": true
   },
   "outputs": [],
   "source": [
    "%matplotlib inline "
   ]
  },
  {
   "cell_type": "markdown",
   "metadata": {},
   "source": [
    "You can pick a column and make an histogram."
   ]
  },
  {
   "cell_type": "code",
   "execution_count": null,
   "metadata": {
    "collapsed": false
   },
   "outputs": [],
   "source": [
    "airquality['Ozone'].plot.hist()"
   ]
  },
  {
   "cell_type": "markdown",
   "metadata": {},
   "source": [
    "Other plots you can make are:\n",
    "* `line` : line plot\n",
    "* `bar` : vertical bar plot\n",
    "* `barh` : horizontal bar plot\n",
    "* `hist` : histogram\n",
    "* `box` : boxplot\n",
    "* `kde` or `density`: Kernel Density Estimation plot\n",
    "* `area` : area plot\n",
    "* `pie` : pie plot"
   ]
  },
  {
   "cell_type": "markdown",
   "metadata": {},
   "source": [
    "We can use one of the techniques we saw before to select only the rows with high ozone measurement and plot a histogram to determine which months has more high ozone days."
   ]
  },
  {
   "cell_type": "code",
   "execution_count": null,
   "metadata": {
    "collapsed": false
   },
   "outputs": [],
   "source": [
    "airquality[high_ozone]['Month'].hist()"
   ]
  },
  {
   "cell_type": "markdown",
   "metadata": {},
   "source": [
    "Here we see that high measurements of the Ozone level are more common in months 7 (July) and 8 (August)."
   ]
  },
  {
   "cell_type": "markdown",
   "metadata": {},
   "source": [
    "You can also make plots involving more than one column. You can call the plots methods on the table itself, e.g."
   ]
  },
  {
   "cell_type": "code",
   "execution_count": null,
   "metadata": {
    "collapsed": false
   },
   "outputs": [],
   "source": [
    "airquality.plot.scatter('Month', 'Temp')"
   ]
  },
  {
   "cell_type": "markdown",
   "metadata": {},
   "source": [
    "### Adding and deleting columns"
   ]
  },
  {
   "cell_type": "markdown",
   "metadata": {},
   "source": [
    "Other than operating on existing columns you can also add columns to your table. Let's create a new column in __`airquality`__ to store the temperature in Celsius:"
   ]
  },
  {
   "cell_type": "code",
   "execution_count": null,
   "metadata": {
    "collapsed": false,
    "scrolled": true
   },
   "outputs": [],
   "source": [
    "airquality['TempC'] = (airquality['Temp'] - 32) / 1.8\n",
    "airquality"
   ]
  },
  {
   "cell_type": "markdown",
   "metadata": {},
   "source": [
    "You can also remove columns by using __`del`__:"
   ]
  },
  {
   "cell_type": "code",
   "execution_count": null,
   "metadata": {
    "collapsed": false
   },
   "outputs": [],
   "source": [
    "airquality['unwanted_column'] = 0\n",
    "airquality"
   ]
  },
  {
   "cell_type": "code",
   "execution_count": null,
   "metadata": {
    "collapsed": false
   },
   "outputs": [],
   "source": [
    "del airquality['unwanted_column']\n",
    "airquality"
   ]
  },
  {
   "cell_type": "markdown",
   "metadata": {},
   "source": [
    "## Exercise 1\n",
    "\n",
    "a) View summary statistics of the new column to answer the following questions:\n",
    "* What is the mean?\n",
    "* What is the max value?\n"
   ]
  },
  {
   "cell_type": "code",
   "execution_count": null,
   "metadata": {
    "collapsed": false
   },
   "outputs": [],
   "source": []
  },
  {
   "cell_type": "markdown",
   "metadata": {},
   "source": [
    "b) Extract data of the first week of every month for your analysis.\n",
    "\n",
    "Steps:\n",
    "\n",
    "1. Create a variable __`first_week_of_month`__ and assign it the indices of rows that have a __`Day <= 7`__\n",
    "2. Create a variable __`data_subset`__ and use the above variable to select only these indices / rows from the __`data`__ __`DataFrame`__"
   ]
  },
  {
   "cell_type": "code",
   "execution_count": null,
   "metadata": {
    "collapsed": false
   },
   "outputs": [],
   "source": []
  },
  {
   "cell_type": "markdown",
   "metadata": {},
   "source": [
    "c) Select rows from the __`data_subset`__ where __`TempC < 20`__ degrees Celsius"
   ]
  },
  {
   "cell_type": "code",
   "execution_count": null,
   "metadata": {
    "collapsed": false
   },
   "outputs": [],
   "source": [
    " "
   ]
  },
  {
   "cell_type": "markdown",
   "metadata": {
    "collapsed": true
   },
   "source": [
    "d) Examine the resulting dataset:\n",
    "\n",
    "* How many records are there?\n",
    "* Are there any cells that have no data?\n",
    "* What month has the most first week days below 20 degrees Celsius?"
   ]
  },
  {
   "cell_type": "markdown",
   "metadata": {},
   "source": [
    "We can visually inspect whether the Ozone measure is correlated with Temperature"
   ]
  },
  {
   "cell_type": "code",
   "execution_count": null,
   "metadata": {
    "collapsed": false
   },
   "outputs": [],
   "source": [
    "airquality.plot.scatter('TempC', 'Ozone')"
   ]
  },
  {
   "cell_type": "markdown",
   "metadata": {},
   "source": [
    "We can calculate the Pearson correlation coefficient between these two columns:"
   ]
  },
  {
   "cell_type": "code",
   "execution_count": null,
   "metadata": {
    "collapsed": false
   },
   "outputs": [],
   "source": [
    "airquality[['TempC', 'Ozone']].corr()"
   ]
  },
  {
   "cell_type": "markdown",
   "metadata": {},
   "source": [
    "Here we can see the columns have a correlation coefficient of 0.698\n",
    "\n",
    "We can also calculate the correlation coefficient between all columns in one command (i.e. pairwise comparison)"
   ]
  },
  {
   "cell_type": "code",
   "execution_count": null,
   "metadata": {
    "collapsed": false
   },
   "outputs": [],
   "source": [
    "airquality.corr()"
   ]
  },
  {
   "cell_type": "markdown",
   "metadata": {},
   "source": [
    "We can flag columns that have a positive correlation coefficient over some threshold. e.g. +0.65"
   ]
  },
  {
   "cell_type": "code",
   "execution_count": null,
   "metadata": {
    "collapsed": false
   },
   "outputs": [],
   "source": [
    "airquality.corr() > 0.65"
   ]
  },
  {
   "cell_type": "markdown",
   "metadata": {},
   "source": [
    "We can also flag columns with a negative correlation coefficient under some threshold. e.g. -0.65 "
   ]
  },
  {
   "cell_type": "code",
   "execution_count": null,
   "metadata": {
    "collapsed": false
   },
   "outputs": [],
   "source": [
    "airquality.corr() < -0.65"
   ]
  },
  {
   "cell_type": "markdown",
   "metadata": {},
   "source": [
    "## Exercise 2\n",
    "\n",
    "a) Review the correlation coefficient tables above to answer the following questions:\n",
    "* What columns have positive correlation coefficients > 0.65?\n",
    "* What columns have positive correlation coefficients < 0.65?\n",
    "* Should we remove any columns that are highly correlated? If so, which ones?\n",
    "\n",
    "b) Write code to remove one of the highly correlated columns:"
   ]
  },
  {
   "cell_type": "code",
   "execution_count": null,
   "metadata": {
    "collapsed": false
   },
   "outputs": [],
   "source": []
  },
  {
   "cell_type": "markdown",
   "metadata": {},
   "source": [
    "c) Check that the modified table has been correctly saved to the __`data`__ variable"
   ]
  },
  {
   "cell_type": "code",
   "execution_count": null,
   "metadata": {
    "collapsed": false
   },
   "outputs": [],
   "source": []
  },
  {
   "cell_type": "markdown",
   "metadata": {},
   "source": [
    "d) Remove the records that have NaN / NA values from the dataset\n",
    "\n",
    "Note: You will need to look at the help documentation on the __`dropna`__ method"
   ]
  },
  {
   "cell_type": "code",
   "execution_count": null,
   "metadata": {
    "collapsed": false
   },
   "outputs": [],
   "source": [
    "help(airquality.dropna)"
   ]
  },
  {
   "cell_type": "code",
   "execution_count": null,
   "metadata": {
    "collapsed": true
   },
   "outputs": [],
   "source": [
    "# drop records that have NaN / NA values\n"
   ]
  },
  {
   "cell_type": "markdown",
   "metadata": {},
   "source": [
    "e) Check that the modified table has been correctly saved"
   ]
  },
  {
   "cell_type": "code",
   "execution_count": null,
   "metadata": {
    "collapsed": false
   },
   "outputs": [],
   "source": []
  },
  {
   "cell_type": "markdown",
   "metadata": {},
   "source": [
    "f) Save your modified table to a CSV file\n",
    "\n",
    "Note: You will need to look at the help documentation on the __`to_csv`__ method"
   ]
  },
  {
   "cell_type": "code",
   "execution_count": null,
   "metadata": {
    "collapsed": false
   },
   "outputs": [],
   "source": [
    "help(airquality.to_csv)"
   ]
  },
  {
   "cell_type": "code",
   "execution_count": null,
   "metadata": {
    "collapsed": true
   },
   "outputs": [],
   "source": [
    "# save the table to a CSV file\n"
   ]
  },
  {
   "cell_type": "markdown",
   "metadata": {},
   "source": [
    "# 2. Basic programming\n",
    "\n",
    "## Learning objectives\n",
    "\n",
    "* Explain what a list is.\n",
    "* Explain what a for loop does.\n",
    "* Write for loops to repeat simple calculations.\n",
    "* Write conditional statements including __`if`__, __`elif`__, and __`else`__ branches.\n",
    "* Correctly evaluate expressions containing __`and`__ and __`or`__.\n",
    "\n",
    "Often you want to repeat some work."
   ]
  },
  {
   "cell_type": "markdown",
   "metadata": {},
   "source": [
    "## Lists and loops\n",
    "\n",
    "We have seen that variables can be of some simple types such as float for __`weight_kg`__ and of very complex types like our table __`airquality`__. These are kind of extreme examples of the kind of _data-types_ you will find in Python.\n",
    "\n",
    "A common data type is a _list_. A list is an ordered sequence of things, any kind of things. If we want to create a list with the numbers one to four we can use the syntax: __`[1, 2, 3, 4]`__.\n",
    "\n",
    "Elements of a list can be extracted using the same indexing syntax we saw before. E.g. the fourth odd number is:"
   ]
  },
  {
   "cell_type": "code",
   "execution_count": null,
   "metadata": {
    "collapsed": false
   },
   "outputs": [],
   "source": [
    "odds = [1, 3, 5, 7]\n",
    "odds[3]"
   ]
  },
  {
   "cell_type": "markdown",
   "metadata": {},
   "source": [
    "The length of a list has a particular syntax: __`len(odds)`__"
   ]
  },
  {
   "cell_type": "code",
   "execution_count": null,
   "metadata": {
    "collapsed": false
   },
   "outputs": [],
   "source": [
    "len(odds)"
   ]
  },
  {
   "cell_type": "markdown",
   "metadata": {},
   "source": [
    "To repeat an operation you write a _for-loop_, which has the general form\n",
    "\n",
    "```for variable in collection:\n",
    "    do things with variable\n",
    "```\n",
    "\n",
    "E.g."
   ]
  },
  {
   "cell_type": "code",
   "execution_count": null,
   "metadata": {
    "collapsed": false
   },
   "outputs": [],
   "source": [
    "for number in odds:\n",
    "    print(number)"
   ]
  },
  {
   "cell_type": "markdown",
   "metadata": {},
   "source": [
    "Each element (__`number`__) in the list __`odds`__ is looped through and printed one element after another.\n",
    "\n",
    "We can call the loop variable anything we like, but there must be a colon at the end of the line starting the loop, and we must indent anything we want to run inside the loop. Unlike many other languages, there is no command to signify the end of the loop body (e.g. end for); what is indented after the for statement belongs to the loop.\n",
    "\n",
    "Here’s another loop that repeatedly updates a variable:"
   ]
  },
  {
   "cell_type": "markdown",
   "metadata": {},
   "source": [
    "Python has a built-in function called __`range`__ that creates a sequence of numbers. Range can accept 1-3 parameters. If one parameter is provided, range creates an array of that length, starting at zero and incrementing by 1. If 2 parameters are provided, range starts at the first and ends just before the second, incrementing by one. If range is passed 3 parameters, it starts at the first one, ends just before the second one, and increments by the third one. For example, __`range(3)`__ produces the numbers 0, 1, 2, while __`range(2, 5)`__ produces 2, 3, 4, and __`range(3, 10, 3)`__ produces 3, 6, 9."
   ]
  },
  {
   "cell_type": "markdown",
   "metadata": {},
   "source": [
    "## Exercise 3\n",
    "\n",
    "Write a loop that uses __`range`__ to print the first 3 natural numbers:\n",
    "\n",
    "```\n",
    "1\n",
    "2\n",
    "3\n",
    "```"
   ]
  },
  {
   "cell_type": "code",
   "execution_count": null,
   "metadata": {
    "collapsed": true
   },
   "outputs": [],
   "source": []
  },
  {
   "cell_type": "markdown",
   "metadata": {},
   "source": [
    "## Conditionals\n",
    "\n",
    "We can ask Python to take different actions, depending on a condition, with an __`if`__ statement:"
   ]
  },
  {
   "cell_type": "code",
   "execution_count": null,
   "metadata": {
    "collapsed": false
   },
   "outputs": [],
   "source": [
    "num = 37\n",
    "if num > 100:\n",
    "    print('greater')\n",
    "else:\n",
    "    print('not greater')\n",
    "print('done')"
   ]
  },
  {
   "cell_type": "markdown",
   "metadata": {},
   "source": [
    "The second line of this code uses the keyword __`if`__ to tell Python that we want to make a choice. If the test that follows the __`if`__ statement is true, the body of the __`if`__ (i.e., the lines indented underneath it) are executed. If the test is false, the body of the __`else`__ is executed instead. Only one or the other is ever executed:\n",
    "\n",
    "![Conditional Flowchart Example](figures/python-flowchart-conditional.png)\n",
    "<center>__Figure: Conditional Flowchart Example__</center>\n",
    "\n",
    "Conditional statements don’t have to include an __`else`__. If there isn’t one, Python simply does nothing if the test is false:\n"
   ]
  },
  {
   "cell_type": "code",
   "execution_count": null,
   "metadata": {
    "collapsed": false
   },
   "outputs": [],
   "source": [
    "num = 53\n",
    "print('before conditional...')\n",
    "if num > 100:\n",
    "    print('53 is greater than 100')\n",
    "print('...after conditional')"
   ]
  },
  {
   "cell_type": "markdown",
   "metadata": {},
   "source": [
    "We can also chain several tests together using __`elif`__, which is short for “else if”. The following Python code uses __`elif`__ to print the sign of a number."
   ]
  },
  {
   "cell_type": "code",
   "execution_count": null,
   "metadata": {
    "collapsed": false
   },
   "outputs": [],
   "source": [
    "num = -3\n",
    "\n",
    "if num > 0:\n",
    "    print(num, \"is positive\")\n",
    "elif num == 0:\n",
    "    print(num, \"is zero\")\n",
    "else:\n",
    "    print(num, \"is negative\")"
   ]
  },
  {
   "cell_type": "markdown",
   "metadata": {},
   "source": [
    "One important thing to notice in the code above is that we use a double equals sign __`==`__ to test for equality rather than a single equals sign because the latter is used to mean assignment.\n",
    "\n",
    "We can also combine tests using __`and`__ and __`or`__. __`and`__ is only true if both parts are true:"
   ]
  },
  {
   "cell_type": "code",
   "execution_count": null,
   "metadata": {
    "collapsed": false
   },
   "outputs": [],
   "source": [
    "if (1 > 0) and (-1 > 0):\n",
    "    print('both parts are true')\n",
    "else:\n",
    "    print('at least one part is false')"
   ]
  },
  {
   "cell_type": "markdown",
   "metadata": {},
   "source": [
    "while __`or`__ is true if at least one part is true:"
   ]
  },
  {
   "cell_type": "code",
   "execution_count": null,
   "metadata": {
    "collapsed": false
   },
   "outputs": [],
   "source": [
    "if (1 < 0) or (-1 < 0):\n",
    "    print('at least one test is true')"
   ]
  },
  {
   "cell_type": "markdown",
   "metadata": {},
   "source": [
    "## Exercise 4\n",
    "\n",
    "Which of the following would be printed if you were to run this code? Why did you pick this answer?\n",
    "\n",
    "1. A\n",
    "2. B\n",
    "3. C\n",
    "4. B and C\n",
    "\n",
    "```if 4 > 5:\n",
    "    print('A')\n",
    "elif 4 == 5:\n",
    "    print('B')\n",
    "elif 4 < 5:\n",
    "    print('C')```"
   ]
  },
  {
   "cell_type": "code",
   "execution_count": null,
   "metadata": {
    "collapsed": true
   },
   "outputs": [],
   "source": []
  },
  {
   "cell_type": "markdown",
   "metadata": {},
   "source": [
    "Sometimes it is useful to check whether some condition is not true. The Boolean operator __`not`__ can do this explicitly. After reading and running the code below, write some __`if`__ statements that use __`not`__ to test the rule you formulated in the previous challenge."
   ]
  },
  {
   "cell_type": "code",
   "execution_count": null,
   "metadata": {
    "collapsed": false
   },
   "outputs": [],
   "source": [
    "if not '':\n",
    "    print('empty string is not true')\n",
    "if not 'word':\n",
    "    print('word is not true')\n",
    "if not not True:\n",
    "    print('not not True is true')"
   ]
  },
  {
   "cell_type": "markdown",
   "metadata": {},
   "source": [
    "## Exercise 5\n",
    "\n",
    "Write some conditions that print __`True`__ if a variable __`a`__ is within 10% of a variable __`b`__ and __`False`__ otherwise. Compare your implementation with your partner’s: do you get the same answer for all possible pairs of numbers?"
   ]
  },
  {
   "cell_type": "code",
   "execution_count": null,
   "metadata": {
    "collapsed": true
   },
   "outputs": [],
   "source": []
  },
  {
   "cell_type": "markdown",
   "metadata": {},
   "source": [
    "## Creating Functions\n",
    "\n",
    "At this point, we’ve written code to import the New York Air Quality dataset, generated summary statistics, drawn plots, calculated correlation coefficients between attributes and saved our modified dataset to disk. \n",
    "\n",
    "Generally, our code can start to get pretty long and complicated for most data processing and analysis projects. For example, what if we had thousands of datasets and our existing code generated figures for each dataset. Let's say you no longer want to generate a figure for every dataset, then commenting out specific figure-drawing code will become a nuisance. Also, what if we want to use that code again, on a different dataset or at a different point in our program? Cutting and pasting it is going to make our code get very long and very repetitive, very quickly. We’d like a way to package our code so that it is easier to reuse, and Python provides for this by letting us define things called ‘functions’ - a shorthand way of re-executing longer pieces of code.\n",
    "\n",
    "Let’s start by defining a function __`fahr_to_kelvin`__ that converts temperatures from Fahrenheit to Kelvin:\n"
   ]
  },
  {
   "cell_type": "code",
   "execution_count": null,
   "metadata": {
    "collapsed": true
   },
   "outputs": [],
   "source": [
    "def fahr_to_kelvin(temp):\n",
    "    return ((temp - 32) * (5/9)) + 273.15"
   ]
  },
  {
   "cell_type": "markdown",
   "metadata": {},
   "source": [
    "![Python Function Blueprint](figures/python-function.svg)\n",
    "<center>__Figure: Python Function Blueprint__</center>"
   ]
  },
  {
   "cell_type": "markdown",
   "metadata": {},
   "source": [
    "The function definition opens with the keyword __`def`__ followed by the name of the function and a parenthesized list of parameter names. The body of the function — the statements that are executed when it runs — is indented below the definition line.\n",
    "\n",
    "When we call the function, the values we pass to it are assigned to those variables so that we can use them inside the function. Inside the function, we use a return statement to send a result back to whoever asked for it.\n",
    "\n",
    "Let’s try running our function. Calling our own function is no different from calling any other function:"
   ]
  },
  {
   "cell_type": "code",
   "execution_count": null,
   "metadata": {
    "collapsed": false
   },
   "outputs": [],
   "source": [
    "print('freezing point of water:', fahr_to_kelvin(32))\n",
    "print('boiling point of water:', fahr_to_kelvin(212))"
   ]
  },
  {
   "cell_type": "markdown",
   "metadata": {},
   "source": [
    "We’ve successfully called the function that we defined, and we have access to the value that we returned."
   ]
  },
  {
   "cell_type": "markdown",
   "metadata": {
    "collapsed": true
   },
   "source": [
    "## Composing Functions\n",
    "\n",
    "Now that we’ve seen how to turn Fahrenheit into Kelvin, it’s easy to turn Kelvin into Celsius:"
   ]
  },
  {
   "cell_type": "code",
   "execution_count": null,
   "metadata": {
    "collapsed": false
   },
   "outputs": [],
   "source": [
    "def kelvin_to_celsius(temp_k):\n",
    "    return temp_k - 273.15\n",
    "\n",
    "print('absolute zero in Celsius:', kelvin_to_celsius(0.0))"
   ]
  },
  {
   "cell_type": "markdown",
   "metadata": {},
   "source": [
    "What about converting Fahrenheit to Celsius? We could write out the formula, but we don’t need to. Instead, we can compose the two functions we have already created:"
   ]
  },
  {
   "cell_type": "code",
   "execution_count": null,
   "metadata": {
    "collapsed": false
   },
   "outputs": [],
   "source": [
    "def fahr_to_celsius(temp_f):\n",
    "    temp_k = fahr_to_kelvin(temp_f)\n",
    "    result = kelvin_to_celsius(temp_k)\n",
    "    return result\n",
    "\n",
    "print('freezing point of water in Celsius:', fahr_to_celsius(32.0))"
   ]
  },
  {
   "cell_type": "markdown",
   "metadata": {},
   "source": [
    "This is our first taste of how larger programs are built: we define basic operations, then combine them in ever-large chunks to get the effect we want. Real-life functions will usually be larger than the ones shown here — typically half a dozen to a few dozen lines — but they shouldn’t ever be much longer than that, or the next person who reads it won’t be able to understand what’s going on."
   ]
  },
  {
   "cell_type": "markdown",
   "metadata": {},
   "source": [
    "## Exercise 6\n",
    "\n",
    "**Combining Strings**\n",
    "\n",
    "“Adding” two strings produces their concatenation: __`'a' + 'b'`__ is __`'ab'`__. Write a function called __`fence`__ that takes two parameters called __`original`__ and __`wrapper`__ and returns a new string that has the wrapper character at the beginning and end of the original. A call to your function should look like this:"
   ]
  },
  {
   "cell_type": "code",
   "execution_count": null,
   "metadata": {
    "collapsed": true
   },
   "outputs": [],
   "source": []
  },
  {
   "cell_type": "markdown",
   "metadata": {},
   "source": [
    "## Exercise 7\n",
    "\n",
    "**Selecting characters from strings**\n",
    "\n",
    "If the variable __`s`__ refers to a string, then __`s[0]`__ is the string’s first character and __`s[-1]`__ is its last. Write a function called __`outer`__ that returns a string made up of just the first and last characters of its input. A call to your function should look like this:"
   ]
  },
  {
   "cell_type": "code",
   "execution_count": null,
   "metadata": {
    "collapsed": true
   },
   "outputs": [],
   "source": []
  },
  {
   "cell_type": "markdown",
   "metadata": {},
   "source": [
    "## Exercise 8\n",
    "\n",
    "**Variables inside and outside functions**\n",
    "\n",
    "What does the following piece of code display when run - and why?\n",
    "\n",
    "```\n",
    "f = 0\n",
    "k = 0\n",
    "\n",
    "def f2k(f):\n",
    "  k = ((f-32)*(5.0/9.0)) + 273.15\n",
    "  return k\n",
    "\n",
    "f2k(8)\n",
    "f2k(41)\n",
    "f2k(32)\n",
    "\n",
    "print(k)\n",
    "```"
   ]
  },
  {
   "cell_type": "code",
   "execution_count": null,
   "metadata": {
    "collapsed": true
   },
   "outputs": [],
   "source": []
  },
  {
   "cell_type": "markdown",
   "metadata": {},
   "source": [
    "## Exercise 9\n",
    "\n",
    "**The old switcheroo**\n",
    "\n",
    "Which of the following would be printed if you were to run this code? Why did you pick this answer?\n",
    "\n",
    "1. `a. 7 3`\n",
    "2. `b. 3 7`\n",
    "3. `c. 3 3`\n",
    "4. `d. 7 7`\n",
    "\n",
    "Code:\n",
    "\n",
    "```\n",
    "a = 3\n",
    "b = 7\n",
    "\n",
    "def swap(a, b):\n",
    "    temp = a\n",
    "    a = b\n",
    "    b = temp\n",
    "\n",
    "swap(a, b)\n",
    "print(a, b)\n",
    "```\n"
   ]
  },
  {
   "cell_type": "code",
   "execution_count": null,
   "metadata": {
    "collapsed": true
   },
   "outputs": [],
   "source": []
  },
  {
   "cell_type": "markdown",
   "metadata": {},
   "source": [
    "## Exercise 10\n",
    "\n",
    "**Readable code**\n",
    "\n",
    "Revise a function you wrote for one of the previous exercises to try to make the code more readable. Then, collaborate with one of your neighbours to critique each other’s functions and discuss how your function implementations could be further improved to make them more readable."
   ]
  },
  {
   "cell_type": "code",
   "execution_count": null,
   "metadata": {
    "collapsed": true
   },
   "outputs": [],
   "source": []
  }
 ],
 "metadata": {
  "kernelspec": {
   "display_name": "Python 3",
   "language": "python",
   "name": "python3"
  },
  "language_info": {
   "codemirror_mode": {
    "name": "ipython",
    "version": 3
   },
   "file_extension": ".py",
   "mimetype": "text/x-python",
   "name": "python",
   "nbconvert_exporter": "python",
   "pygments_lexer": "ipython3",
   "version": "3.5.1"
  }
 },
 "nbformat": 4,
 "nbformat_minor": 0
}
